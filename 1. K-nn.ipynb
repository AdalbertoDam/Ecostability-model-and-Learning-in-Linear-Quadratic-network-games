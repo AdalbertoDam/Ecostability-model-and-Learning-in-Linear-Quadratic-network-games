{
 "cells": [
  {
   "cell_type": "markdown",
   "metadata": {
    "id": "w01Aikz9Pk04"
   },
   "source": [
    "**STATISTICAL LEARNING AND NEURAL NETWORKS, A.A. 2022/2023**\n",
    "\n",
    "**COMPUTER LAB 1** - k-NN classifier\n",
    "\n",
    "**Duration: 6 hours**"
   ]
  },
  {
   "cell_type": "markdown",
   "metadata": {
    "id": "snVsJOyvonwT"
   },
   "source": [
    "**Exercise 1 - Synthetic dataset**\n",
    "\n",
    "In this exercise, you will employ a synthetic dataset (file Lab1_Ex_1_Synthtetic.hdf5), containing labelled training data and test data for two classes. For each example the first two columns represent the features, while the last column represents the label.\n",
    "\n",
    "Task: your task is to implement a k-NN classifier, which calculates the probability that a given test example belongs to each class, and outputs a class label as the class with the highest probability. You will evaluate the classifier performance computing the average classification accuracy (i.e. the fraction of test examples that have been classified correctly in respect to the full test set).\n",
    "\n",
    "In particular, you should perform the following:\n",
    "\n",
    "*   Train a k-NN classifier for different values of k.\n",
    "*   Compare accuracy on the training set and the test set. Calculating accuracy of the training set means that you will have to classify each sample in the training set as if it were a test sample; one expects that classification of training samples will perform well, and this may also be used to validate your implementation. Accuracy is defined as the ratio between the number of test samples that are correctly classified, and the total number of test samples. Create a graph using the matplotlib library showing the evolution of the accuracy for different values of k over the test set. Create a second graph to show the evolution of the accuracy for different values of k over the train set and compare the two.\n",
    "\n",
    "*   Identifying overfitting and underfitting in the obtained results. \n",
    "\n",
    "Note that, for this computer lab, you do not need to employ a validation set.\n",
    "\n",
    "**Other indications:**\n",
    "*   The student is required to implement the k-NN algorithm from scratch. Only the numpy library is allowed, while other libraries such as scikit_learn are forbidden."
   ]
  },
  {
   "cell_type": "code",
   "execution_count": 1,
   "metadata": {
    "id": "gqR9LW3xonHa"
   },
   "outputs": [],
   "source": [
    "import numpy as np\n",
    "import matplotlib.pyplot as plt"
   ]
  },
  {
   "cell_type": "code",
   "execution_count": 2,
   "metadata": {
    "id": "H0BBNF3AoyU2"
   },
   "outputs": [],
   "source": [
    "import h5py\n",
    "Dataset1 = h5py.File(r\"Lab1_Ex_1_Synthtetic.hdf5\")\n",
    "Data = np.array(Dataset1.get('Dataset'))   \n",
    "Train_Set = Data[:200,:] \n",
    "Test_Set = Data[200:,:] "
   ]
  },
  {
   "cell_type": "markdown",
   "metadata": {},
   "source": [
    "**Data set**"
   ]
  },
  {
   "cell_type": "code",
   "execution_count": 3,
   "metadata": {},
   "outputs": [
    {
     "data": {
      "text/plain": [
       "(200, 3)"
      ]
     },
     "execution_count": 3,
     "metadata": {},
     "output_type": "execute_result"
    }
   ],
   "source": [
    "Train_Set.shape"
   ]
  },
  {
   "cell_type": "markdown",
   "metadata": {},
   "source": [
    "**Defining euclidian distance**"
   ]
  },
  {
   "cell_type": "code",
   "execution_count": 4,
   "metadata": {},
   "outputs": [],
   "source": [
    "def euclidian_distance(pt1,pt2):\n",
    "    distance = np.sqrt(np.sum((pt1-pt2)**2))\n",
    "    return distance"
   ]
  },
  {
   "cell_type": "markdown",
   "metadata": {},
   "source": [
    "**Implementation of $k-nn$**"
   ]
  },
  {
   "cell_type": "code",
   "execution_count": 5,
   "metadata": {},
   "outputs": [],
   "source": [
    "def k_nn(X_train, X_sample, k_val):\n",
    "    y_hat = []\n",
    "    #y_hat is the vector of predicted labels\n",
    "    for test_pt in X_sample[:,range(0,len(X_sample[0,:])-1)]:\n",
    "        # For each vector in X_sample, compute the distances with \n",
    "        # all vectors in X_train\n",
    "        distances = []\n",
    "        for train_pt in X_train[:,range(0,len(X_train[0,:])-1)]:\n",
    "            distances.append(euclidian_distance(train_pt, test_pt))               \n",
    "        k_nn = np.argsort(distances)[0:k_val]\n",
    "        # List of indices of the nearest k_val points \n",
    "        # and corresponding labels\n",
    "        labels =X_train[k_nn,len(X_train[0,:])-1]\n",
    "        classes, counts = np.unique(labels, return_counts=True)\n",
    "        index = np.argmax(counts)\n",
    "        # Find the most frequent class \n",
    "        y_hat.append(classes[index])        \n",
    "    return y_hat"
   ]
  },
  {
   "cell_type": "code",
   "execution_count": 7,
   "metadata": {},
   "outputs": [],
   "source": [
    "Train_Set[:,range(0,len(Train_Set[0,:])-1)];\n",
    "#The loop is on the 2D vectors"
   ]
  },
  {
   "cell_type": "markdown",
   "metadata": {},
   "source": [
    "### **Results for $k=1$, $k=200$**"
   ]
  },
  {
   "cell_type": "code",
   "execution_count": 6,
   "metadata": {},
   "outputs": [],
   "source": [
    "y_hat = k_nn(Train_Set,Train_Set, k_val=1)"
   ]
  },
  {
   "cell_type": "code",
   "execution_count": 8,
   "metadata": {
    "scrolled": true
   },
   "outputs": [],
   "source": [
    "y_hat == Train_Set[:,2];\n",
    "# For k=1 ,it gives back the classes of the training set itself"
   ]
  },
  {
   "cell_type": "code",
   "execution_count": 10,
   "metadata": {},
   "outputs": [],
   "source": [
    "y_hat = k_nn(Train_Set,Train_Set, k_val=200)\n",
    "y_hat;\n",
    "# For k = 200, it gives back always the majority of the training set, which is 1."
   ]
  },
  {
   "cell_type": "code",
   "execution_count": 9,
   "metadata": {},
   "outputs": [
    {
     "data": {
      "text/plain": [
       "(1.0, array([0., 1.]), array([ 97, 103], dtype=int64))"
      ]
     },
     "execution_count": 9,
     "metadata": {},
     "output_type": "execute_result"
    }
   ],
   "source": [
    "# For the training set, the majority is one\n",
    "classes, counts =np.unique(Train_Set[:,2], return_counts=True)\n",
    "index = np.argmax(counts)\n",
    "classes[index],classes,counts"
   ]
  },
  {
   "cell_type": "markdown",
   "metadata": {},
   "source": [
    "**Simple function to compute accuracy**"
   ]
  },
  {
   "cell_type": "code",
   "execution_count": 10,
   "metadata": {},
   "outputs": [],
   "source": [
    "def accuracy(y,y_guessed):\n",
    "    N=len(y)\n",
    "    err=0\n",
    "    for i in range(0,N-1):\n",
    "        if y[i] != y_guessed[i]:\n",
    "            err += 1/N        \n",
    "    return 1 - err"
   ]
  },
  {
   "cell_type": "code",
   "execution_count": 11,
   "metadata": {},
   "outputs": [
    {
     "data": {
      "text/plain": [
       "1"
      ]
     },
     "execution_count": 11,
     "metadata": {},
     "output_type": "execute_result"
    }
   ],
   "source": [
    "# Choosing k = 1, we find 100% of accuracy on the training set\n",
    "accuracy(Train_Set[:,2],k_nn(Train_Set,Train_Set, k_val=1))"
   ]
  },
  {
   "cell_type": "code",
   "execution_count": 14,
   "metadata": {},
   "outputs": [
    {
     "data": {
      "text/plain": [
       "0.9450000000000001"
      ]
     },
     "execution_count": 14,
     "metadata": {},
     "output_type": "execute_result"
    }
   ],
   "source": [
    "# Accuracy on the test set, choosing k = 1.\n",
    "accuracy(Test_Set[:,2],k_nn(Train_Set,Test_Set, k_val=1))"
   ]
  },
  {
   "cell_type": "code",
   "execution_count": 15,
   "metadata": {},
   "outputs": [
    {
     "data": {
      "text/plain": [
       "0.5199999999999997"
      ]
     },
     "execution_count": 15,
     "metadata": {},
     "output_type": "execute_result"
    }
   ],
   "source": [
    "# Accuracy on the train set, choosing k = 200.\n",
    "accuracy(Train_Set[:,2],k_nn(Train_Set,Train_Set, k_val=200))"
   ]
  },
  {
   "cell_type": "code",
   "execution_count": 16,
   "metadata": {},
   "outputs": [
    {
     "data": {
      "text/plain": [
       "0.48499999999999965"
      ]
     },
     "execution_count": 16,
     "metadata": {},
     "output_type": "execute_result"
    }
   ],
   "source": [
    "# Accuracy on the test set, choosing k = 200.\n",
    "accuracy(Test_Set[:,2],k_nn(Train_Set,Test_Set, k_val=200))"
   ]
  },
  {
   "cell_type": "markdown",
   "metadata": {},
   "source": [
    "### **Accuracy for different values of $k$ for the Training and Test Set**"
   ]
  },
  {
   "cell_type": "code",
   "execution_count": 12,
   "metadata": {},
   "outputs": [],
   "source": [
    "k_range=[1,2,5,6,7,8,10,20,30,50,80,100,130,160,180,200]"
   ]
  },
  {
   "cell_type": "code",
   "execution_count": 18,
   "metadata": {},
   "outputs": [],
   "source": [
    "# Accuracy on Test Set\n",
    "acc_test= []\n",
    "for i in k_range:\n",
    "    acc_test.append(accuracy(Test_Set[:,2],k_nn(Train_Set,Test_Set, i)))"
   ]
  },
  {
   "cell_type": "code",
   "execution_count": 19,
   "metadata": {},
   "outputs": [],
   "source": [
    "# Accuracy on Train set\n",
    "acc_train = []\n",
    "for i in k_range:\n",
    "    acc_train.append(accuracy(Train_Set[:,2],k_nn(Train_Set,Train_Set, i)))"
   ]
  },
  {
   "cell_type": "code",
   "execution_count": 20,
   "metadata": {},
   "outputs": [
    {
     "data": {
      "image/png": "[encoded data removed]",
      "text/plain": [
       "<Figure size 768x576 with 1 Axes>"
      ]
     },
     "metadata": {},
     "output_type": "display_data"
    }
   ],
   "source": [
    "plt.figure(num=0,dpi=120)\n",
    "plt.plot(k_range,acc_test,\"-o\", label=\"Test Set\",)\n",
    "plt.plot(k_range,acc_train,\"-o\", label=\"Training Set\")\n",
    "plt.axhline(y=1, color='k', linestyle='-', label= \"Perfect guess\")\n",
    "plt.title(\"Results\")\n",
    "plt.xlabel(\"K\")\n",
    "plt.ylabel(\"Accuracy\")\n",
    "plt.legend()\n",
    "plt.show()"
   ]
  },
  {
   "cell_type": "markdown",
   "metadata": {},
   "source": [
    "##### "
   ]
  },
  {
   "cell_type": "markdown",
   "metadata": {
    "id": "KyMY6gyCG4n6"
   },
   "source": [
    "**Comments to exercise 1**"
   ]
  },
  {
   "cell_type": "markdown",
   "metadata": {},
   "source": [
    "In the plot above the results of the **k-nn** method are shown when applied both on the training set and the test set.\n",
    "The accuracy is defined as:\n",
    "\n",
    "\\begin{align}\n",
    "1 - err(f,D) = 1 - \\frac{1}{N} \\sum_{i=1}^N \\mathbb{1}(f(x_{i} \\neq y_{i}) \n",
    "\\end{align}\n",
    "where  $err(f,D)$ is the misclassification rate, computed both on the training set and the test set.\n",
    "The **k-nn** method acts by classifying the data associating the most probable class label, i.e. the label of the majority of the $k$ nearest neighbours.\n",
    "We can see from the plot that for $k = 1$ there's an overfitting of the data: the accuracy on the training set is $1$ while on the test set we obtain a smaller value ($0.95$).\n",
    "\n",
    "For $k=1$ , the method, when applied on the training set, will return the original labels since the 1st neighbour of a training point will be that point itself. The method is \"too much\" fitted on the input, so it will perform badly on the prediction of class labels for new data.\n",
    "\n",
    "While for $k = 200$ (= number of training points), the method, when applied to the training test, will return constantly $1$, which represents the most frequent class label on the whole set used to train the classifier, we are in the case of underfitting: in this way the method loses information on the locality of test points, that is needed to give a reasonable prediction on the class of new data. \n",
    "\n",
    "An intermediate **k** will guarantee both the right amount of averaging between **nn's** and the right \"scale\" of locality: we can see from the plot that the optimal performance on the test set is roughly reached for a **k** value approximately in a range from $5$ to $10$.\n",
    "\n"
   ]
  },
  {
   "cell_type": "markdown",
   "metadata": {
    "id": "-00TK0cno8kU"
   },
   "source": [
    "**Exercise 2 - Wine dataset**\n",
    "\n",
    "*Part 1*\n",
    "\n",
    "In this exercise, a real problem will be examined. The dataset used in this exercise was derived from wine quality dataset from the work \"*Modeling wine preferences by data mining from physicochemical properties*\" by P. Cortez, A. Cerdeira, F. Almeida, T. Matos and J. Reis. \n",
    "\n",
    "For each element of the dataset 11 features are provided, representing different wine characteristics, such as density, pH and alcholic content, and the final column consists of a quality evaluation on a scale from 1 to 10. More information can be found at https://archive.ics.uci.edu/ml/datasets/wine+quality.\n",
    "\n",
    "A subset of the dataset containing 400 elements is provided. Create a training set and a test set of 200 samples each. The objective is to: \n",
    "*   Predict the wine quality over the test set using the k-NN algorithm and evaluating the prediction accuracy for different values of k. Create a graph using the matplotlib library showing the evolution of the accuracy for different values of k over the test set.\n",
    "*   Identifying overfitting and underfitting in the obtained results. \n",
    "\n",
    "*Part 2*\n",
    "\n",
    "The prediction of the wine quality could also be framed as a regression. Estimate the accuracy and the Mean Square Error achieved using linear resgression. For this task is possible to use the library sklearn and the function linear_model.LinearRegression() "
   ]
  },
  {
   "cell_type": "code",
   "execution_count": 13,
   "metadata": {},
   "outputs": [],
   "source": [
    "from statistics import mode"
   ]
  },
  {
   "cell_type": "code",
   "execution_count": 14,
   "metadata": {
    "id": "umDKCqJRpBDl"
   },
   "outputs": [],
   "source": [
    "#Part 1\n",
    "\n",
    "Dataset2 = h5py.File(r\"Lab1_Ex_2_wine.hdf5\")\n",
    "\n",
    "Data = np.array(Dataset2.get('Dataset'))\n",
    "\n",
    "Train_Set = Data[:200,:] \n",
    "Test_Set = Data[200:,:] "
   ]
  },
  {
   "cell_type": "code",
   "execution_count": 24,
   "metadata": {},
   "outputs": [
    {
     "data": {
      "text/plain": [
       "array([0.46478873, 0.27272727, 0.15060241, 0.12158055, 0.10404624,\n",
       "       0.07266436, 0.28181818, 0.9563418 , 0.80104712, 0.35185185,\n",
       "       0.76056338, 6.        ])"
      ]
     },
     "execution_count": 24,
     "metadata": {},
     "output_type": "execute_result"
    }
   ],
   "source": [
    "# Form of the training data\n",
    "Train_Set[0,:]"
   ]
  },
  {
   "cell_type": "code",
   "execution_count": 15,
   "metadata": {},
   "outputs": [],
   "source": [
    "k_range=[1,2,5,6,7,8,10,20,30,50,80,100,130,160,180,200]"
   ]
  },
  {
   "cell_type": "markdown",
   "metadata": {},
   "source": [
    "### **Prediction accuracy for different values of $k$**"
   ]
  },
  {
   "cell_type": "code",
   "execution_count": 26,
   "metadata": {},
   "outputs": [],
   "source": [
    "# Accuracy on Test Set\n",
    "acc_test= []\n",
    "for i in k_range:\n",
    "    acc_test.append(accuracy(Test_Set[:,len(Test_Set[0,:]) - 1],k_nn(Train_Set,Test_Set, i)))"
   ]
  },
  {
   "cell_type": "code",
   "execution_count": 25,
   "metadata": {},
   "outputs": [],
   "source": [
    "# Accuracy on Train set\n",
    "acc_train = []\n",
    "for i in k_range:\n",
    "    acc_train.append(accuracy(Train_Set[:,len(Train_Set[0,:]) - 1],k_nn(Train_Set,Train_Set, i)))"
   ]
  },
  {
   "cell_type": "code",
   "execution_count": 26,
   "metadata": {},
   "outputs": [
    {
     "data": {
      "image/png": "[encoded data removed]",
      "text/plain": [
       "<Figure size 720x480 with 1 Axes>"
      ]
     },
     "metadata": {
      "needs_background": "light"
     },
     "output_type": "display_data"
    }
   ],
   "source": [
    "plt.figure(num=0,dpi=120)\n",
    "plt.plot(k_range,acc_test,\"-o\", label=\"Test Set\",)\n",
    "plt.plot(k_range,acc_train,\"-o\", label=\"Training Set\")\n",
    "plt.axhline(y=1, color='k', linestyle='-', label= \"Perfect guess\")\n",
    "plt.title(\"Results\")\n",
    "plt.xlabel(\"K\")\n",
    "plt.ylabel(\"Accuracy\")\n",
    "plt.legend()\n",
    "plt.show()"
   ]
  },
  {
   "cell_type": "code",
   "execution_count": 20,
   "metadata": {
    "id": "4sN3cp91pHsv"
   },
   "outputs": [],
   "source": [
    "#Part 2\n",
    "from sklearn import linear_model\n",
    "X = Train_Set[:,range(0,len(Train_Set[0,:])-1)]\n",
    "Y =  Train_Set[:,len(Train_Set[0,:]) - 1]\n",
    "clf = linear_model.LinearRegression().fit(X,Y)"
   ]
  },
  {
   "cell_type": "markdown",
   "metadata": {},
   "source": [
    "**Predictions on test set**"
   ]
  },
  {
   "cell_type": "code",
   "execution_count": 22,
   "metadata": {
    "scrolled": true
   },
   "outputs": [],
   "source": [
    "Y_predict = clf.predict(Test_Set[:,range(0,len(Test_Set[0,:])-1)])"
   ]
  },
  {
   "cell_type": "code",
   "execution_count": 29,
   "metadata": {},
   "outputs": [],
   "source": [
    "#Mean Squared Error \n",
    "def MSE(Y_true,Y_predict):\n",
    "    N=len(Y_true)\n",
    "    mse = 0.0\n",
    "    for i in range(0,N-1):\n",
    "        mse += (1/N)*((Y_true[i] - Y_predict[i])**2)\n",
    "    return mse"
   ]
  },
  {
   "cell_type": "markdown",
   "metadata": {},
   "source": [
    "**Comparison in terms of MSE**"
   ]
  },
  {
   "cell_type": "markdown",
   "metadata": {},
   "source": [
    "**MSE on test set, with predictions obtained through linear regression**"
   ]
  },
  {
   "cell_type": "code",
   "execution_count": 30,
   "metadata": {},
   "outputs": [
    {
     "data": {
      "text/plain": [
       "0.599651847636214"
      ]
     },
     "execution_count": 30,
     "metadata": {},
     "output_type": "execute_result"
    }
   ],
   "source": [
    "MSE(Y_predict,Test_Set[:,len(Test_Set[0,:])-1])"
   ]
  },
  {
   "cell_type": "markdown",
   "metadata": {},
   "source": [
    "**MSE on test set, with predictions obtained through $k-nn$ method, using as $k$ the optimal value (i.e. the one that gives the best accuracy)**"
   ]
  },
  {
   "cell_type": "code",
   "execution_count": 31,
   "metadata": {},
   "outputs": [],
   "source": [
    "#Find k optimal from the ones I chose\n",
    "index =np.argmax(acc_test)\n",
    "k_opt =k_range[index]"
   ]
  },
  {
   "cell_type": "code",
   "execution_count": 32,
   "metadata": {},
   "outputs": [
    {
     "data": {
      "text/plain": [
       "0.6950000000000005"
      ]
     },
     "execution_count": 32,
     "metadata": {},
     "output_type": "execute_result"
    }
   ],
   "source": [
    "MSE(k_nn(Train_Set,Test_Set, k_val=k_opt),Test_Set[:,len(Test_Set[0,:])-1])"
   ]
  },
  {
   "cell_type": "markdown",
   "metadata": {},
   "source": [
    "**The two methods use different metrics** ( Accuracy for k-nn, MSE for Linear Regression)"
   ]
  },
  {
   "cell_type": "code",
   "execution_count": 49,
   "metadata": {},
   "outputs": [],
   "source": [
    "def accuracy_rounded(y,y_guessed):\n",
    "    N=len(y)\n",
    "    err=0\n",
    "    for i in range(0,N-1):\n",
    "        if round(y[i]) != round(y_guessed[i]):\n",
    "            err += 1/N\n",
    "        \n",
    "    return 1 - err"
   ]
  },
  {
   "cell_type": "code",
   "execution_count": 23,
   "metadata": {
    "scrolled": true
   },
   "outputs": [],
   "source": [
    "Y_predict;\n",
    "# Lin regression predicts a real label, not an integer."
   ]
  },
  {
   "cell_type": "markdown",
   "metadata": {},
   "source": [
    "**Comparison in terms of accuracy**"
   ]
  },
  {
   "cell_type": "code",
   "execution_count": 61,
   "metadata": {},
   "outputs": [
    {
     "data": {
      "text/plain": [
       "0.5149999999999997"
      ]
     },
     "execution_count": 61,
     "metadata": {},
     "output_type": "execute_result"
    }
   ],
   "source": [
    "#k-nn\n",
    "accuracy(k_nn(Train_Set,Test_Set, k_val=k_opt),Test_Set[:,len(Test_Set[0,:])-1])"
   ]
  },
  {
   "cell_type": "code",
   "execution_count": 62,
   "metadata": {},
   "outputs": [
    {
     "data": {
      "text/plain": [
       "0.47499999999999964"
      ]
     },
     "execution_count": 62,
     "metadata": {},
     "output_type": "execute_result"
    }
   ],
   "source": [
    "# Lin Regression\n",
    "accuracy_rounded(Y_predict,Test_Set[:,len(Test_Set[0,:])-1])"
   ]
  },
  {
   "cell_type": "markdown",
   "metadata": {
    "id": "cqYF9t2AIb4r"
   },
   "source": [
    "**Student's comments to exercise 2**\n",
    "\n"
   ]
  },
  {
   "cell_type": "markdown",
   "metadata": {},
   "source": [
    "The **k-nn** method performs slightly worse on this dataset with respect to what was obtained in exercise 1. One reason could be related to the curse of dimensionality, this data is in an higher dimensional space which causes the available data to become more sparse and the concept of locality to deteriorate. We can identify from the plot of Results above overfitting and underfitting. \n",
    "\n",
    "\n",
    "For the second part of the exercise, a comparison between the linear regression and the k-nn is shown: the two methods use different metrics for classification.\n",
    "\n",
    "\n",
    "Linear regression predicts a real label, k-nn predicts an integer one, to compare them one must be consistent, either by using the MSE for both or the accuracy. In the latter case, it is better to round the result of the L.R. to the nearest integer. \n",
    "\n"
   ]
  },
  {
   "cell_type": "code",
   "execution_count": 63,
   "metadata": {},
   "outputs": [
    {
     "data": {
      "text/plain": [
       "[6.0, 6.0]"
      ]
     },
     "execution_count": 63,
     "metadata": {},
     "output_type": "execute_result"
    }
   ],
   "source": [
    "[mode(Test_Set[:,len(Test_Set[0,:]) -1]),mode(Train_Set[:,len(Train_Set[0,:]) -1])]\n",
    "# Both for Training and Test the the most frequent label is 6, for k =200 we will find, for this specific case, that the \n",
    "# method \"works better for the test set\""
   ]
  },
  {
   "cell_type": "markdown",
   "metadata": {
    "id": "6saN9xgEpGH2"
   },
   "source": [
    "**Exercise 3: Phoneme Dataset**\n",
    "\n",
    "In this exercise the Phoneme dataset is examined https://catalog.ldc.upenn.edu/LDC93s1. Each line represents 256 samples gathered at a 16 kHz of different speech signals. The objective is to classify wether the sound emitted is a \"sh\", \"iy\", \"dcl\", \"aa\", \"ao\" phoneme.  \n",
    "\n",
    "Again, a subset of the dataset containing 400 elements is provided. Create a training set and a test set of 200 samples each. \n",
    "\n",
    "\n",
    "*   Classify the samples which compose the test set using the k-NN algorithm and evaluate the prediction accuracy for different values of k. Create a graph using the matplotlib library showing the evolution of the accuracy for different values of k over the test set.\n",
    "*   Identifying overfitting and underfitting in the obtained results. "
   ]
  },
  {
   "cell_type": "code",
   "execution_count": 27,
   "metadata": {
    "id": "SSQL6rM-pV9O"
   },
   "outputs": [],
   "source": [
    "Dataset3 = h5py.File(r\"Lab1_Ex_3.hdf5\")\n",
    "Data = np.array(Dataset3.get('Dataset'))\n",
    "Train_Set = Data[:200,:] \n",
    "Test_Set = Data[200:,:] "
   ]
  },
  {
   "cell_type": "code",
   "execution_count": 74,
   "metadata": {},
   "outputs": [],
   "source": [
    "k_range=[1,2,5,6,7,8,10,20,30,40,50,55,60,65,70,80,100,110,130,160,180,200]"
   ]
  },
  {
   "cell_type": "code",
   "execution_count": 75,
   "metadata": {},
   "outputs": [],
   "source": [
    "# Accuracy on Test Set\n",
    "acc_test= []\n",
    "for i in k_range:\n",
    "    acc_test.append(accuracy(Test_Set[:,len(Test_Set[0,:]) - 1],k_nn(Train_Set,Test_Set, i)))"
   ]
  },
  {
   "cell_type": "code",
   "execution_count": 76,
   "metadata": {},
   "outputs": [],
   "source": [
    "# Accuracy on Train set\n",
    "acc_train = []\n",
    "for i in k_range:\n",
    "    acc_train.append(accuracy(Train_Set[:,len(Train_Set[0,:]) - 1],k_nn(Train_Set,Train_Set, i)))"
   ]
  },
  {
   "cell_type": "code",
   "execution_count": 77,
   "metadata": {},
   "outputs": [
    {
     "data": {
      "image/png": "[encoded data removed]",
      "text/plain": [
       "<Figure size 720x480 with 1 Axes>"
      ]
     },
     "metadata": {
      "needs_background": "light"
     },
     "output_type": "display_data"
    }
   ],
   "source": [
    "plt.figure(num=0,dpi=120)\n",
    "plt.plot(k_range,acc_test,\"-o\", label=\"Test Set\",)\n",
    "plt.plot(k_range,acc_train,\"-o\", label=\"Training Set\")\n",
    "plt.axhline(y=1, color='k', linestyle='-', label= \"Perfect guess\")\n",
    "plt.title(\"Results\")\n",
    "plt.xlabel(\"K\")\n",
    "plt.ylabel(\"Accuracy\")\n",
    "plt.legend()\n",
    "plt.show()"
   ]
  },
  {
   "cell_type": "markdown",
   "metadata": {
    "id": "t-ZPSq-XIoEb"
   },
   "source": [
    "**Student's comments to exercise 3**\n"
   ]
  },
  {
   "cell_type": "markdown",
   "metadata": {},
   "source": [
    "We can notice that, even if this dataset has an even higher dimensionality, **k-nn** works generally well for $k$ sufficiently small.\n",
    "It is true that the high dimensionality worsens the result, but we are always dealing with a specific sample of data, the result then will depend on sample-dependent properties and fluctuations."
   ]
  }
 ],
 "metadata": {
  "colab": {
   "collapsed_sections": [],
   "provenance": []
  },
  "kernelspec": {
   "display_name": "Python 3 (ipykernel)",
   "language": "python",
   "name": "python3"
  },
  "language_info": {
   "codemirror_mode": {
    "name": "ipython",
    "version": 3
   },
   "file_extension": ".py",
   "mimetype": "text/x-python",
   "name": "python",
   "nbconvert_exporter": "python",
   "pygments_lexer": "ipython3",
   "version": "3.9.18"
  }
 },
 "nbformat": 4,
 "nbformat_minor": 4
}
